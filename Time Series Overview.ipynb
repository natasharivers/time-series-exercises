{
 "cells": [
  {
   "cell_type": "markdown",
   "metadata": {},
   "source": [
    "# Time Series Overview"
   ]
  },
  {
   "cell_type": "markdown",
   "metadata": {},
   "source": [
    "- This is a **supervised** method\n",
    "- It is part of **linear regression**\n",
    "- Making projectons about time"
   ]
  },
  {
   "cell_type": "markdown",
   "metadata": {},
   "source": [
    "<hr style=\"border:1px solid black\"> </hr>"
   ]
  },
  {
   "cell_type": "markdown",
   "metadata": {},
   "source": [
    "#### TSA- a special case of regression\n",
    "\n",
    "because... **assumptions**\n",
    "\n",
    "<br>\n",
    "\n",
    "- Time Series data does NOT meet required assumptions for linear regression\n",
    "\n",
    "- Specifically .... **collinearity**"
   ]
  },
  {
   "cell_type": "markdown",
   "metadata": {},
   "source": [
    "#### examples of WHEN to use TSA\n",
    "- making sells projections\n",
    "- looking at the way stocks behave"
   ]
  },
  {
   "cell_type": "markdown",
   "metadata": {},
   "source": [
    "#### Example:\n",
    "- forecasting/predict number of new customers next month using historical monthly new customer count\n",
    "    - features= each historical month\n",
    "    - target= next month"
   ]
  },
  {
   "cell_type": "markdown",
   "metadata": {},
   "source": [
    "<hr style=\"border:1px solid black\"> </hr>"
   ]
  },
  {
   "cell_type": "markdown",
   "metadata": {},
   "source": [
    "## Vocab:\n",
    "- **Trend**: long term progression, increasing or decreasing\n",
    "- **Cyclic**: fluctuation that are not of a fixed period\n",
    "- **Lag Variable**: previous time step: yesterday($t_1$) is lag var to today ($t_0$)\n",
    "- **Collinearity**: when independent variables are highly correlated\n",
    "- **Resampling**: changing frequency of the data points\n",
    "- **Autocorrelation**: \"regression of self\"\n",
    "    - used to detect non-rondomness in data\n",
    "    - correlation coefficient\n",
    "- **Seasonality**: series is influenced by seasonal factors"
   ]
  },
  {
   "cell_type": "markdown",
   "metadata": {},
   "source": [
    "<hr style=\"border:1px solid black\"> </hr>"
   ]
  },
  {
   "cell_type": "markdown",
   "metadata": {},
   "source": [
    "## TS Pipeline"
   ]
  },
  {
   "cell_type": "markdown",
   "metadata": {},
   "source": [
    "### Acquire: \n",
    "- gather data using REST API"
   ]
  },
  {
   "cell_type": "markdown",
   "metadata": {},
   "source": [
    "### Prepare: \n",
    "- working with dates\n",
    "    - resample() \n",
    "    - asfreq()\n",
    "- index is a point in time!\n",
    "    - x-axis is a timeline\n",
    "- filling missing values  \n",
    "    - fillna() \n",
    "    - bfill \n",
    "    - ffill \n",
    "    - pad"
   ]
  },
  {
   "cell_type": "markdown",
   "metadata": {},
   "source": [
    "### Explore:\n",
    "- splitting Time Series data into train, validate, test\n",
    "    - sklearn.model- selection.TimeSeriesSplit\n",
    "    - using date cutoff"
   ]
  },
  {
   "cell_type": "markdown",
   "metadata": {},
   "source": [
    "### Model:\n",
    "- **last observed value**:\n",
    "    - last point in time and move forward\n",
    "-  **simple average**:\n",
    "    - looking at entire scope of values over time and take an average of that... that will be our prediction\n",
    "- **simple moving average (SMA)**:\n",
    "    - AKA \"moving average\"\n",
    "    - average of the values going up to that point, sliding window\n",
    "- **previous cycle**:\n",
    "    - our prediction is what happened in the most previous cycle\n",
    "        - (ex): june we had 10 customers, july will have 10 customers\n",
    "    - for stable markets\n",
    "- **Holt's linear trend**:\n",
    "    - apply exponential smoothing to both average and the trend (slope)\n",
    "    - not a good option for long term predictions\n",
    "- **Facebook's prophet model**:\n",
    "    - branded and developed by FB\n",
    "    - non-linear trends fit wth yealy, weekly, daily seasonality and holiday effects\n",
    "\n",
    "- **Others Methods**:\n",
    "    - exponential moving average:\n",
    "    - support vector regressor"
   ]
  },
  {
   "cell_type": "code",
   "execution_count": null,
   "metadata": {},
   "outputs": [],
   "source": []
  }
 ],
 "metadata": {
  "kernelspec": {
   "display_name": "Python 3",
   "language": "python",
   "name": "python3"
  },
  "language_info": {
   "codemirror_mode": {
    "name": "ipython",
    "version": 3
   },
   "file_extension": ".py",
   "mimetype": "text/x-python",
   "name": "python",
   "nbconvert_exporter": "python",
   "pygments_lexer": "ipython3",
   "version": "3.8.5"
  }
 },
 "nbformat": 4,
 "nbformat_minor": 4
}
