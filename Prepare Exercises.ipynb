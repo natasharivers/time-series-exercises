{
 "cells": [
  {
   "cell_type": "markdown",
   "metadata": {},
   "source": [
    "# Exercises:"
   ]
  },
  {
   "cell_type": "markdown",
   "metadata": {},
   "source": [
    "The end result of this exercise should be a file named prepare.py.\n",
    "\n",
    "<br>\n",
    "\n",
    "#### Part 1\n",
    "- Using your store items data:\n",
    "1. Convert date column to datetime format.\n",
    "2. Plot the distribution of sale_amount and item_price.\n",
    "3. Set the index to be the datetime variable.\n",
    "4. Add a 'month' and 'day of week' column to your dataframe.\n",
    "5. Add a column to your dataframe, sales_total, which is a derived from sale_amount (total items) and item_price.\n",
    "6. Make sure all the work that you have done above is reproducible. That is, you should put the code above into separate functions and be able to re-run the functions and get the same results.\n",
    "\n",
    "<br>\n",
    "\n",
    "#### Part 2:\n",
    "- Using the OPS data acquired in the Acquire exercises opsd_germany_daily.csv, complete the following:\n",
    "1. Convert date column to datetime format.\n",
    "2. Plot the distribution of each of your variables.\n",
    "3. Set the index to be the datetime variable.\n",
    "4. Add a month and a year column to your dataframe.\n",
    "5. Fill any missing values.\n",
    "6. Make sure all the work that you have done above is reproducible. That is, you should put the code above into separate functions and be able to re-run the functions and get the same results."
   ]
  },
  {
   "cell_type": "markdown",
   "metadata": {},
   "source": [
    "<hr style=\"border:2px solid black\"> </hr>"
   ]
  },
  {
   "cell_type": "code",
   "execution_count": 1,
   "metadata": {},
   "outputs": [],
   "source": [
    "#tabular data manipulation\n",
    "import numpy as np\n",
    "import pandas as pd\n",
    "#visualization\n",
    "import matplotlib.pyplot as plt\n",
    "\n",
    "#datetime utilities\n",
    "from datetime import timedelta, datetime\n",
    "\n",
    "#custom scripts\n",
    "import acquire\n",
    "import prepare\n",
    "\n",
    "#remove warnings\n",
    "import warnings\n",
    "warnings.filterwarnings(\"ignore\")"
   ]
  },
  {
   "cell_type": "markdown",
   "metadata": {},
   "source": [
    "<hr style=\"border:2px solid black\"> </hr>"
   ]
  },
  {
   "cell_type": "markdown",
   "metadata": {},
   "source": [
    "### Part 1 Exercises:"
   ]
  },
  {
   "cell_type": "markdown",
   "metadata": {},
   "source": [
    "Using your store items data:"
   ]
  },
  {
   "cell_type": "code",
   "execution_count": null,
   "metadata": {},
   "outputs": [],
   "source": [
    "df = acquire.all_store_data()\n",
    "df"
   ]
  },
  {
   "cell_type": "markdown",
   "metadata": {},
   "source": [
    "#### #1. Convert date column to datetime format."
   ]
  },
  {
   "cell_type": "code",
   "execution_count": null,
   "metadata": {},
   "outputs": [],
   "source": [
    "#check current dtype- object\n",
    "df.sale_date.dtypes"
   ]
  },
  {
   "cell_type": "code",
   "execution_count": null,
   "metadata": {},
   "outputs": [],
   "source": [
    "df.sale_date = df.sale_date.astype('datetime64[ns]')"
   ]
  },
  {
   "cell_type": "code",
   "execution_count": null,
   "metadata": {},
   "outputs": [],
   "source": [
    "#confirm dtype was changed\n",
    "df.dtypes"
   ]
  },
  {
   "cell_type": "markdown",
   "metadata": {},
   "source": [
    "#### #2. Plot the distribution of sale_amount and item_price."
   ]
  },
  {
   "cell_type": "code",
   "execution_count": null,
   "metadata": {},
   "outputs": [],
   "source": [
    "df.sale_amount.plot()\n",
    "plt.title('Distribution of Sale Amount')\n",
    "plt.ylabel('Sale Amount')\n",
    "plt.show()"
   ]
  },
  {
   "cell_type": "code",
   "execution_count": null,
   "metadata": {},
   "outputs": [],
   "source": [
    "df.item_price.plot()\n",
    "plt.title('Distribution of Item Price')\n",
    "plt.ylabel('Item Price')\n",
    "plt.show()"
   ]
  },
  {
   "cell_type": "markdown",
   "metadata": {},
   "source": [
    "#### #3. Set the index to be the datetime variable"
   ]
  },
  {
   "cell_type": "code",
   "execution_count": null,
   "metadata": {},
   "outputs": [],
   "source": [
    "#check index\n",
    "type(df.index)"
   ]
  },
  {
   "cell_type": "code",
   "execution_count": null,
   "metadata": {},
   "outputs": [],
   "source": [
    "#must complete step 2&3 (set date as index and sort)\n",
    "df = df.set_index('sale_date').sort_index()"
   ]
  },
  {
   "cell_type": "code",
   "execution_count": null,
   "metadata": {},
   "outputs": [],
   "source": [
    "#confirm index changed\n",
    "type(df.index)"
   ]
  },
  {
   "cell_type": "markdown",
   "metadata": {},
   "source": [
    "#### #4. Add a 'month' and 'day of week' column to your dataframe."
   ]
  },
  {
   "cell_type": "code",
   "execution_count": null,
   "metadata": {},
   "outputs": [],
   "source": [
    "#create column to identify month!\n",
    "df['month'] = df.index.month"
   ]
  },
  {
   "cell_type": "code",
   "execution_count": null,
   "metadata": {},
   "outputs": [],
   "source": [
    "#create column to identify month!\n",
    "df['day_of_week'] = df.index.day_name()"
   ]
  },
  {
   "cell_type": "code",
   "execution_count": null,
   "metadata": {},
   "outputs": [],
   "source": [
    "#take a look\n",
    "df.head()"
   ]
  },
  {
   "cell_type": "markdown",
   "metadata": {},
   "source": [
    "#### #5. Add a column to your dataframe, sales_total, which is a derived from sale_amount (total items) and item_price."
   ]
  },
  {
   "cell_type": "code",
   "execution_count": null,
   "metadata": {},
   "outputs": [],
   "source": [
    "df['sales_total'] = df.sale_amount * df.item_price\n",
    "#consider change 'sale_amount' column to 'sale_quantity'- name misleading"
   ]
  },
  {
   "cell_type": "code",
   "execution_count": null,
   "metadata": {},
   "outputs": [],
   "source": [
    "#take a look \n",
    "df.head()"
   ]
  },
  {
   "cell_type": "markdown",
   "metadata": {},
   "source": [
    "#### #6. Make sure all the work that you have done above is reproducible. That is, you should put the code above into separate functions and be able to re-run the functions and get the same results."
   ]
  },
  {
   "cell_type": "code",
   "execution_count": 3,
   "metadata": {},
   "outputs": [
    {
     "data": {
      "text/html": [
       "<div>\n",
       "<style scoped>\n",
       "    .dataframe tbody tr th:only-of-type {\n",
       "        vertical-align: middle;\n",
       "    }\n",
       "\n",
       "    .dataframe tbody tr th {\n",
       "        vertical-align: top;\n",
       "    }\n",
       "\n",
       "    .dataframe thead th {\n",
       "        text-align: right;\n",
       "    }\n",
       "</style>\n",
       "<table border=\"1\" class=\"dataframe\">\n",
       "  <thead>\n",
       "    <tr style=\"text-align: right;\">\n",
       "      <th></th>\n",
       "      <th>item</th>\n",
       "      <th>sale_amount</th>\n",
       "      <th>sale_id</th>\n",
       "      <th>store</th>\n",
       "      <th>store_address</th>\n",
       "      <th>store_city</th>\n",
       "      <th>store_id</th>\n",
       "      <th>store_state</th>\n",
       "      <th>store_zipcode</th>\n",
       "      <th>item_brand</th>\n",
       "      <th>item_id</th>\n",
       "      <th>item_name</th>\n",
       "      <th>item_price</th>\n",
       "      <th>item_upc12</th>\n",
       "      <th>item_upc14</th>\n",
       "      <th>month</th>\n",
       "      <th>day_of_week</th>\n",
       "      <th>sales_total</th>\n",
       "    </tr>\n",
       "    <tr>\n",
       "      <th>sale_date</th>\n",
       "      <th></th>\n",
       "      <th></th>\n",
       "      <th></th>\n",
       "      <th></th>\n",
       "      <th></th>\n",
       "      <th></th>\n",
       "      <th></th>\n",
       "      <th></th>\n",
       "      <th></th>\n",
       "      <th></th>\n",
       "      <th></th>\n",
       "      <th></th>\n",
       "      <th></th>\n",
       "      <th></th>\n",
       "      <th></th>\n",
       "      <th></th>\n",
       "      <th></th>\n",
       "      <th></th>\n",
       "    </tr>\n",
       "  </thead>\n",
       "  <tbody>\n",
       "    <tr>\n",
       "      <th>2013-01-01</th>\n",
       "      <td>1</td>\n",
       "      <td>13.0</td>\n",
       "      <td>1</td>\n",
       "      <td>1</td>\n",
       "      <td>12125 Alamo Ranch Pkwy</td>\n",
       "      <td>San Antonio</td>\n",
       "      <td>1</td>\n",
       "      <td>TX</td>\n",
       "      <td>78253</td>\n",
       "      <td>Riceland</td>\n",
       "      <td>1</td>\n",
       "      <td>Riceland American Jazmine Rice</td>\n",
       "      <td>0.84</td>\n",
       "      <td>35200264013</td>\n",
       "      <td>35200264013</td>\n",
       "      <td>1</td>\n",
       "      <td>Tuesday</td>\n",
       "      <td>10.92</td>\n",
       "    </tr>\n",
       "    <tr>\n",
       "      <th>2013-01-01</th>\n",
       "      <td>12</td>\n",
       "      <td>26.0</td>\n",
       "      <td>211817</td>\n",
       "      <td>7</td>\n",
       "      <td>12018 Perrin Beitel Rd</td>\n",
       "      <td>San Antonio</td>\n",
       "      <td>7</td>\n",
       "      <td>TX</td>\n",
       "      <td>78217</td>\n",
       "      <td>Mueller</td>\n",
       "      <td>12</td>\n",
       "      <td>Mueller Sport Care Basic Support Level Medium ...</td>\n",
       "      <td>8.40</td>\n",
       "      <td>74676640211</td>\n",
       "      <td>74676640211</td>\n",
       "      <td>1</td>\n",
       "      <td>Tuesday</td>\n",
       "      <td>218.40</td>\n",
       "    </tr>\n",
       "    <tr>\n",
       "      <th>2013-01-01</th>\n",
       "      <td>46</td>\n",
       "      <td>27.0</td>\n",
       "      <td>832657</td>\n",
       "      <td>7</td>\n",
       "      <td>12018 Perrin Beitel Rd</td>\n",
       "      <td>San Antonio</td>\n",
       "      <td>7</td>\n",
       "      <td>TX</td>\n",
       "      <td>78217</td>\n",
       "      <td>Mama Marys</td>\n",
       "      <td>46</td>\n",
       "      <td>Pizza Sauce</td>\n",
       "      <td>4.65</td>\n",
       "      <td>35457770664</td>\n",
       "      <td>35457770664</td>\n",
       "      <td>1</td>\n",
       "      <td>Tuesday</td>\n",
       "      <td>125.55</td>\n",
       "    </tr>\n",
       "    <tr>\n",
       "      <th>2013-01-01</th>\n",
       "      <td>12</td>\n",
       "      <td>54.0</td>\n",
       "      <td>213643</td>\n",
       "      <td>8</td>\n",
       "      <td>15000 San Pedro Ave</td>\n",
       "      <td>San Antonio</td>\n",
       "      <td>8</td>\n",
       "      <td>TX</td>\n",
       "      <td>78232</td>\n",
       "      <td>Mueller</td>\n",
       "      <td>12</td>\n",
       "      <td>Mueller Sport Care Basic Support Level Medium ...</td>\n",
       "      <td>8.40</td>\n",
       "      <td>74676640211</td>\n",
       "      <td>74676640211</td>\n",
       "      <td>1</td>\n",
       "      <td>Tuesday</td>\n",
       "      <td>453.60</td>\n",
       "    </tr>\n",
       "    <tr>\n",
       "      <th>2013-01-01</th>\n",
       "      <td>12</td>\n",
       "      <td>35.0</td>\n",
       "      <td>215469</td>\n",
       "      <td>9</td>\n",
       "      <td>735 SW Military Dr</td>\n",
       "      <td>San Antonio</td>\n",
       "      <td>9</td>\n",
       "      <td>TX</td>\n",
       "      <td>78221</td>\n",
       "      <td>Mueller</td>\n",
       "      <td>12</td>\n",
       "      <td>Mueller Sport Care Basic Support Level Medium ...</td>\n",
       "      <td>8.40</td>\n",
       "      <td>74676640211</td>\n",
       "      <td>74676640211</td>\n",
       "      <td>1</td>\n",
       "      <td>Tuesday</td>\n",
       "      <td>294.00</td>\n",
       "    </tr>\n",
       "    <tr>\n",
       "      <th>...</th>\n",
       "      <td>...</td>\n",
       "      <td>...</td>\n",
       "      <td>...</td>\n",
       "      <td>...</td>\n",
       "      <td>...</td>\n",
       "      <td>...</td>\n",
       "      <td>...</td>\n",
       "      <td>...</td>\n",
       "      <td>...</td>\n",
       "      <td>...</td>\n",
       "      <td>...</td>\n",
       "      <td>...</td>\n",
       "      <td>...</td>\n",
       "      <td>...</td>\n",
       "      <td>...</td>\n",
       "      <td>...</td>\n",
       "      <td>...</td>\n",
       "      <td>...</td>\n",
       "    </tr>\n",
       "    <tr>\n",
       "      <th>2017-12-31</th>\n",
       "      <td>34</td>\n",
       "      <td>21.0</td>\n",
       "      <td>619014</td>\n",
       "      <td>9</td>\n",
       "      <td>735 SW Military Dr</td>\n",
       "      <td>San Antonio</td>\n",
       "      <td>9</td>\n",
       "      <td>TX</td>\n",
       "      <td>78221</td>\n",
       "      <td>Halls</td>\n",
       "      <td>34</td>\n",
       "      <td>Halls Menthol Cough Suppresant/oral Anesthetic...</td>\n",
       "      <td>4.17</td>\n",
       "      <td>312546628694</td>\n",
       "      <td>312546628694</td>\n",
       "      <td>12</td>\n",
       "      <td>Sunday</td>\n",
       "      <td>87.57</td>\n",
       "    </tr>\n",
       "    <tr>\n",
       "      <th>2017-12-31</th>\n",
       "      <td>34</td>\n",
       "      <td>32.0</td>\n",
       "      <td>620840</td>\n",
       "      <td>10</td>\n",
       "      <td>8503 NW Military Hwy</td>\n",
       "      <td>San Antonio</td>\n",
       "      <td>10</td>\n",
       "      <td>TX</td>\n",
       "      <td>78231</td>\n",
       "      <td>Halls</td>\n",
       "      <td>34</td>\n",
       "      <td>Halls Menthol Cough Suppresant/oral Anesthetic...</td>\n",
       "      <td>4.17</td>\n",
       "      <td>312546628694</td>\n",
       "      <td>312546628694</td>\n",
       "      <td>12</td>\n",
       "      <td>Sunday</td>\n",
       "      <td>133.44</td>\n",
       "    </tr>\n",
       "    <tr>\n",
       "      <th>2017-12-31</th>\n",
       "      <td>35</td>\n",
       "      <td>55.0</td>\n",
       "      <td>622666</td>\n",
       "      <td>1</td>\n",
       "      <td>12125 Alamo Ranch Pkwy</td>\n",
       "      <td>San Antonio</td>\n",
       "      <td>1</td>\n",
       "      <td>TX</td>\n",
       "      <td>78253</td>\n",
       "      <td>Natures Way</td>\n",
       "      <td>35</td>\n",
       "      <td>Natures Way Forskohlii - 60 Ct</td>\n",
       "      <td>5.19</td>\n",
       "      <td>33674100066</td>\n",
       "      <td>33674100066</td>\n",
       "      <td>12</td>\n",
       "      <td>Sunday</td>\n",
       "      <td>285.45</td>\n",
       "    </tr>\n",
       "    <tr>\n",
       "      <th>2017-12-31</th>\n",
       "      <td>33</td>\n",
       "      <td>100.0</td>\n",
       "      <td>598928</td>\n",
       "      <td>8</td>\n",
       "      <td>15000 San Pedro Ave</td>\n",
       "      <td>San Antonio</td>\n",
       "      <td>8</td>\n",
       "      <td>TX</td>\n",
       "      <td>78232</td>\n",
       "      <td>The First Years</td>\n",
       "      <td>33</td>\n",
       "      <td>Tomy The First Years Gumdrop Orthodontic Pacif...</td>\n",
       "      <td>6.52</td>\n",
       "      <td>71463060078</td>\n",
       "      <td>71463060078</td>\n",
       "      <td>12</td>\n",
       "      <td>Sunday</td>\n",
       "      <td>652.00</td>\n",
       "    </tr>\n",
       "    <tr>\n",
       "      <th>2017-12-31</th>\n",
       "      <td>50</td>\n",
       "      <td>82.0</td>\n",
       "      <td>913000</td>\n",
       "      <td>10</td>\n",
       "      <td>8503 NW Military Hwy</td>\n",
       "      <td>San Antonio</td>\n",
       "      <td>10</td>\n",
       "      <td>TX</td>\n",
       "      <td>78231</td>\n",
       "      <td>Choice</td>\n",
       "      <td>50</td>\n",
       "      <td>Choice Organic Teas Black Tea Classic Black - ...</td>\n",
       "      <td>5.20</td>\n",
       "      <td>47445919221</td>\n",
       "      <td>47445919221</td>\n",
       "      <td>12</td>\n",
       "      <td>Sunday</td>\n",
       "      <td>426.40</td>\n",
       "    </tr>\n",
       "  </tbody>\n",
       "</table>\n",
       "<p>913000 rows × 18 columns</p>\n",
       "</div>"
      ],
      "text/plain": [
       "            item  sale_amount  sale_id  store           store_address  \\\n",
       "sale_date                                                               \n",
       "2013-01-01     1         13.0        1      1  12125 Alamo Ranch Pkwy   \n",
       "2013-01-01    12         26.0   211817      7  12018 Perrin Beitel Rd   \n",
       "2013-01-01    46         27.0   832657      7  12018 Perrin Beitel Rd   \n",
       "2013-01-01    12         54.0   213643      8     15000 San Pedro Ave   \n",
       "2013-01-01    12         35.0   215469      9      735 SW Military Dr   \n",
       "...          ...          ...      ...    ...                     ...   \n",
       "2017-12-31    34         21.0   619014      9      735 SW Military Dr   \n",
       "2017-12-31    34         32.0   620840     10    8503 NW Military Hwy   \n",
       "2017-12-31    35         55.0   622666      1  12125 Alamo Ranch Pkwy   \n",
       "2017-12-31    33        100.0   598928      8     15000 San Pedro Ave   \n",
       "2017-12-31    50         82.0   913000     10    8503 NW Military Hwy   \n",
       "\n",
       "             store_city  store_id store_state  store_zipcode       item_brand  \\\n",
       "sale_date                                                                       \n",
       "2013-01-01  San Antonio         1          TX          78253         Riceland   \n",
       "2013-01-01  San Antonio         7          TX          78217          Mueller   \n",
       "2013-01-01  San Antonio         7          TX          78217       Mama Marys   \n",
       "2013-01-01  San Antonio         8          TX          78232          Mueller   \n",
       "2013-01-01  San Antonio         9          TX          78221          Mueller   \n",
       "...                 ...       ...         ...            ...              ...   \n",
       "2017-12-31  San Antonio         9          TX          78221            Halls   \n",
       "2017-12-31  San Antonio        10          TX          78231            Halls   \n",
       "2017-12-31  San Antonio         1          TX          78253      Natures Way   \n",
       "2017-12-31  San Antonio         8          TX          78232  The First Years   \n",
       "2017-12-31  San Antonio        10          TX          78231           Choice   \n",
       "\n",
       "            item_id                                          item_name  \\\n",
       "sale_date                                                                \n",
       "2013-01-01        1                     Riceland American Jazmine Rice   \n",
       "2013-01-01       12  Mueller Sport Care Basic Support Level Medium ...   \n",
       "2013-01-01       46                                        Pizza Sauce   \n",
       "2013-01-01       12  Mueller Sport Care Basic Support Level Medium ...   \n",
       "2013-01-01       12  Mueller Sport Care Basic Support Level Medium ...   \n",
       "...             ...                                                ...   \n",
       "2017-12-31       34  Halls Menthol Cough Suppresant/oral Anesthetic...   \n",
       "2017-12-31       34  Halls Menthol Cough Suppresant/oral Anesthetic...   \n",
       "2017-12-31       35                     Natures Way Forskohlii - 60 Ct   \n",
       "2017-12-31       33  Tomy The First Years Gumdrop Orthodontic Pacif...   \n",
       "2017-12-31       50  Choice Organic Teas Black Tea Classic Black - ...   \n",
       "\n",
       "            item_price    item_upc12    item_upc14  month day_of_week  \\\n",
       "sale_date                                                               \n",
       "2013-01-01        0.84   35200264013   35200264013      1     Tuesday   \n",
       "2013-01-01        8.40   74676640211   74676640211      1     Tuesday   \n",
       "2013-01-01        4.65   35457770664   35457770664      1     Tuesday   \n",
       "2013-01-01        8.40   74676640211   74676640211      1     Tuesday   \n",
       "2013-01-01        8.40   74676640211   74676640211      1     Tuesday   \n",
       "...                ...           ...           ...    ...         ...   \n",
       "2017-12-31        4.17  312546628694  312546628694     12      Sunday   \n",
       "2017-12-31        4.17  312546628694  312546628694     12      Sunday   \n",
       "2017-12-31        5.19   33674100066   33674100066     12      Sunday   \n",
       "2017-12-31        6.52   71463060078   71463060078     12      Sunday   \n",
       "2017-12-31        5.20   47445919221   47445919221     12      Sunday   \n",
       "\n",
       "            sales_total  \n",
       "sale_date                \n",
       "2013-01-01        10.92  \n",
       "2013-01-01       218.40  \n",
       "2013-01-01       125.55  \n",
       "2013-01-01       453.60  \n",
       "2013-01-01       294.00  \n",
       "...                 ...  \n",
       "2017-12-31        87.57  \n",
       "2017-12-31       133.44  \n",
       "2017-12-31       285.45  \n",
       "2017-12-31       652.00  \n",
       "2017-12-31       426.40  \n",
       "\n",
       "[913000 rows x 18 columns]"
      ]
     },
     "execution_count": 3,
     "metadata": {},
     "output_type": "execute_result"
    }
   ],
   "source": [
    "prepare.prep_store()"
   ]
  },
  {
   "cell_type": "markdown",
   "metadata": {},
   "source": [
    "<hr style=\"border:3px solid black\"> </hr>"
   ]
  },
  {
   "cell_type": "markdown",
   "metadata": {},
   "source": [
    "### Part 2 Exercises:"
   ]
  },
  {
   "cell_type": "markdown",
   "metadata": {},
   "source": [
    "Using the OPS data acquired in the Acquire exercises opsd_germany_daily.csv, complete the following:"
   ]
  },
  {
   "cell_type": "code",
   "execution_count": null,
   "metadata": {},
   "outputs": [],
   "source": [
    "germany = acquire.get_germany_data()\n",
    "germany"
   ]
  },
  {
   "cell_type": "markdown",
   "metadata": {},
   "source": [
    "#### #1. Convert date column to datetime format."
   ]
  },
  {
   "cell_type": "code",
   "execution_count": null,
   "metadata": {},
   "outputs": [],
   "source": [
    "#check current dtype- object\n",
    "germany.Date.dtypes"
   ]
  },
  {
   "cell_type": "code",
   "execution_count": null,
   "metadata": {},
   "outputs": [],
   "source": [
    "germany.Date = germany.Date.astype('datetime64[ns]')"
   ]
  },
  {
   "cell_type": "code",
   "execution_count": null,
   "metadata": {},
   "outputs": [],
   "source": [
    "#make sure\n",
    "germany.info()"
   ]
  },
  {
   "cell_type": "markdown",
   "metadata": {},
   "source": [
    "#### #2. Plot the distribution of each of your variables."
   ]
  },
  {
   "cell_type": "code",
   "execution_count": null,
   "metadata": {},
   "outputs": [],
   "source": [
    "#visualize distribution\n",
    "for col in germany.columns:\n",
    "    plt.hist(germany[col])\n",
    "    plt.title(col)\n",
    "    plt.show()"
   ]
  },
  {
   "cell_type": "markdown",
   "metadata": {},
   "source": [
    "#### #3. Set the index to be the datetime variable."
   ]
  },
  {
   "cell_type": "code",
   "execution_count": null,
   "metadata": {},
   "outputs": [],
   "source": [
    "#check current index\n",
    "type(germany.index)"
   ]
  },
  {
   "cell_type": "code",
   "execution_count": null,
   "metadata": {},
   "outputs": [],
   "source": [
    "#must complete step 2&3 (set date as index and sort)\n",
    "germany = germany.set_index('Date').sort_index()"
   ]
  },
  {
   "cell_type": "code",
   "execution_count": null,
   "metadata": {},
   "outputs": [],
   "source": [
    "#recheck index\n",
    "type(germany.index)"
   ]
  },
  {
   "cell_type": "markdown",
   "metadata": {},
   "source": [
    "#### #4. Add a month and a year column to your dataframe."
   ]
  },
  {
   "cell_type": "code",
   "execution_count": null,
   "metadata": {},
   "outputs": [],
   "source": [
    "#create new colum for month\n",
    "germany['month'] = germany.index.month"
   ]
  },
  {
   "cell_type": "code",
   "execution_count": null,
   "metadata": {},
   "outputs": [],
   "source": [
    "#create new colum for year\n",
    "germany['year'] = germany.index.year"
   ]
  },
  {
   "cell_type": "code",
   "execution_count": null,
   "metadata": {},
   "outputs": [],
   "source": [
    "#take a look\n",
    "germany.head()"
   ]
  },
  {
   "cell_type": "markdown",
   "metadata": {},
   "source": [
    "#### #5. Fill any missing values."
   ]
  },
  {
   "cell_type": "code",
   "execution_count": null,
   "metadata": {},
   "outputs": [],
   "source": [
    "#check for nulls\n",
    "germany.isnull().sum()"
   ]
  },
  {
   "cell_type": "code",
   "execution_count": null,
   "metadata": {},
   "outputs": [],
   "source": [
    "#check all data\n",
    "germany.info()\n",
    "\n",
    "#nearly 50%nulls on some columns"
   ]
  },
  {
   "cell_type": "code",
   "execution_count": null,
   "metadata": {},
   "outputs": [],
   "source": [
    "#fill nulls with 0\n",
    "germany.fillna(0)"
   ]
  },
  {
   "cell_type": "markdown",
   "metadata": {},
   "source": [
    "#### #6. Make sure all the work that you have done above is reproducible. That is, you should put the code above into separate functions and be able to re-run the functions and get the same results."
   ]
  },
  {
   "cell_type": "code",
   "execution_count": 4,
   "metadata": {},
   "outputs": [
    {
     "data": {
      "text/html": [
       "<div>\n",
       "<style scoped>\n",
       "    .dataframe tbody tr th:only-of-type {\n",
       "        vertical-align: middle;\n",
       "    }\n",
       "\n",
       "    .dataframe tbody tr th {\n",
       "        vertical-align: top;\n",
       "    }\n",
       "\n",
       "    .dataframe thead th {\n",
       "        text-align: right;\n",
       "    }\n",
       "</style>\n",
       "<table border=\"1\" class=\"dataframe\">\n",
       "  <thead>\n",
       "    <tr style=\"text-align: right;\">\n",
       "      <th></th>\n",
       "      <th>Consumption</th>\n",
       "      <th>Wind</th>\n",
       "      <th>Solar</th>\n",
       "      <th>Wind+Solar</th>\n",
       "      <th>month</th>\n",
       "      <th>year</th>\n",
       "    </tr>\n",
       "    <tr>\n",
       "      <th>Date</th>\n",
       "      <th></th>\n",
       "      <th></th>\n",
       "      <th></th>\n",
       "      <th></th>\n",
       "      <th></th>\n",
       "      <th></th>\n",
       "    </tr>\n",
       "  </thead>\n",
       "  <tbody>\n",
       "    <tr>\n",
       "      <th>2006-01-01</th>\n",
       "      <td>1069.18400</td>\n",
       "      <td>NaN</td>\n",
       "      <td>NaN</td>\n",
       "      <td>NaN</td>\n",
       "      <td>1</td>\n",
       "      <td>2006</td>\n",
       "    </tr>\n",
       "    <tr>\n",
       "      <th>2006-01-02</th>\n",
       "      <td>1380.52100</td>\n",
       "      <td>NaN</td>\n",
       "      <td>NaN</td>\n",
       "      <td>NaN</td>\n",
       "      <td>1</td>\n",
       "      <td>2006</td>\n",
       "    </tr>\n",
       "    <tr>\n",
       "      <th>2006-01-03</th>\n",
       "      <td>1442.53300</td>\n",
       "      <td>NaN</td>\n",
       "      <td>NaN</td>\n",
       "      <td>NaN</td>\n",
       "      <td>1</td>\n",
       "      <td>2006</td>\n",
       "    </tr>\n",
       "    <tr>\n",
       "      <th>2006-01-04</th>\n",
       "      <td>1457.21700</td>\n",
       "      <td>NaN</td>\n",
       "      <td>NaN</td>\n",
       "      <td>NaN</td>\n",
       "      <td>1</td>\n",
       "      <td>2006</td>\n",
       "    </tr>\n",
       "    <tr>\n",
       "      <th>2006-01-05</th>\n",
       "      <td>1477.13100</td>\n",
       "      <td>NaN</td>\n",
       "      <td>NaN</td>\n",
       "      <td>NaN</td>\n",
       "      <td>1</td>\n",
       "      <td>2006</td>\n",
       "    </tr>\n",
       "    <tr>\n",
       "      <th>...</th>\n",
       "      <td>...</td>\n",
       "      <td>...</td>\n",
       "      <td>...</td>\n",
       "      <td>...</td>\n",
       "      <td>...</td>\n",
       "      <td>...</td>\n",
       "    </tr>\n",
       "    <tr>\n",
       "      <th>2017-12-27</th>\n",
       "      <td>1263.94091</td>\n",
       "      <td>394.507</td>\n",
       "      <td>16.530</td>\n",
       "      <td>411.037</td>\n",
       "      <td>12</td>\n",
       "      <td>2017</td>\n",
       "    </tr>\n",
       "    <tr>\n",
       "      <th>2017-12-28</th>\n",
       "      <td>1299.86398</td>\n",
       "      <td>506.424</td>\n",
       "      <td>14.162</td>\n",
       "      <td>520.586</td>\n",
       "      <td>12</td>\n",
       "      <td>2017</td>\n",
       "    </tr>\n",
       "    <tr>\n",
       "      <th>2017-12-29</th>\n",
       "      <td>1295.08753</td>\n",
       "      <td>584.277</td>\n",
       "      <td>29.854</td>\n",
       "      <td>614.131</td>\n",
       "      <td>12</td>\n",
       "      <td>2017</td>\n",
       "    </tr>\n",
       "    <tr>\n",
       "      <th>2017-12-30</th>\n",
       "      <td>1215.44897</td>\n",
       "      <td>721.247</td>\n",
       "      <td>7.467</td>\n",
       "      <td>728.714</td>\n",
       "      <td>12</td>\n",
       "      <td>2017</td>\n",
       "    </tr>\n",
       "    <tr>\n",
       "      <th>2017-12-31</th>\n",
       "      <td>1107.11488</td>\n",
       "      <td>721.176</td>\n",
       "      <td>19.980</td>\n",
       "      <td>741.156</td>\n",
       "      <td>12</td>\n",
       "      <td>2017</td>\n",
       "    </tr>\n",
       "  </tbody>\n",
       "</table>\n",
       "<p>4383 rows × 6 columns</p>\n",
       "</div>"
      ],
      "text/plain": [
       "            Consumption     Wind   Solar  Wind+Solar  month  year\n",
       "Date                                                             \n",
       "2006-01-01   1069.18400      NaN     NaN         NaN      1  2006\n",
       "2006-01-02   1380.52100      NaN     NaN         NaN      1  2006\n",
       "2006-01-03   1442.53300      NaN     NaN         NaN      1  2006\n",
       "2006-01-04   1457.21700      NaN     NaN         NaN      1  2006\n",
       "2006-01-05   1477.13100      NaN     NaN         NaN      1  2006\n",
       "...                 ...      ...     ...         ...    ...   ...\n",
       "2017-12-27   1263.94091  394.507  16.530     411.037     12  2017\n",
       "2017-12-28   1299.86398  506.424  14.162     520.586     12  2017\n",
       "2017-12-29   1295.08753  584.277  29.854     614.131     12  2017\n",
       "2017-12-30   1215.44897  721.247   7.467     728.714     12  2017\n",
       "2017-12-31   1107.11488  721.176  19.980     741.156     12  2017\n",
       "\n",
       "[4383 rows x 6 columns]"
      ]
     },
     "execution_count": 4,
     "metadata": {},
     "output_type": "execute_result"
    }
   ],
   "source": [
    "prepare.prep_germany()"
   ]
  },
  {
   "cell_type": "code",
   "execution_count": null,
   "metadata": {},
   "outputs": [],
   "source": []
  }
 ],
 "metadata": {
  "kernelspec": {
   "display_name": "Python 3",
   "language": "python",
   "name": "python3"
  },
  "language_info": {
   "codemirror_mode": {
    "name": "ipython",
    "version": 3
   },
   "file_extension": ".py",
   "mimetype": "text/x-python",
   "name": "python",
   "nbconvert_exporter": "python",
   "pygments_lexer": "ipython3",
   "version": "3.8.5"
  }
 },
 "nbformat": 4,
 "nbformat_minor": 4
}
