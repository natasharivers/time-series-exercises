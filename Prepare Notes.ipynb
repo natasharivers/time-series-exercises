{
 "cells": [
  {
   "cell_type": "markdown",
   "metadata": {},
   "source": [
    "# Prepare Notes"
   ]
  },
  {
   "cell_type": "code",
   "execution_count": 1,
   "metadata": {},
   "outputs": [],
   "source": [
    "# tabular data manipulation\n",
    "import numpy as np\n",
    "import pandas as pd\n",
    "# datetime utilities\n",
    "from datetime import timedelta, datetime\n",
    "# visualization\n",
    "import matplotlib.pyplot as plt\n",
    "\n",
    "# no yelling in the library\n",
    "import warnings\n",
    "warnings.filterwarnings(\"ignore\")\n",
    "\n",
    "# our acquire script\n",
    "import acquire"
   ]
  },
  {
   "cell_type": "code",
   "execution_count": 2,
   "metadata": {},
   "outputs": [
    {
     "data": {
      "text/html": [
       "<div>\n",
       "<style scoped>\n",
       "    .dataframe tbody tr th:only-of-type {\n",
       "        vertical-align: middle;\n",
       "    }\n",
       "\n",
       "    .dataframe tbody tr th {\n",
       "        vertical-align: top;\n",
       "    }\n",
       "\n",
       "    .dataframe thead th {\n",
       "        text-align: right;\n",
       "    }\n",
       "</style>\n",
       "<table border=\"1\" class=\"dataframe\">\n",
       "  <thead>\n",
       "    <tr style=\"text-align: right;\">\n",
       "      <th></th>\n",
       "      <th>item</th>\n",
       "      <th>sale_amount</th>\n",
       "      <th>sale_date</th>\n",
       "      <th>sale_id</th>\n",
       "      <th>store</th>\n",
       "      <th>store_address</th>\n",
       "      <th>store_city</th>\n",
       "      <th>store_id</th>\n",
       "      <th>store_state</th>\n",
       "      <th>store_zipcode</th>\n",
       "      <th>item_brand</th>\n",
       "      <th>item_id</th>\n",
       "      <th>item_name</th>\n",
       "      <th>item_price</th>\n",
       "      <th>item_upc12</th>\n",
       "      <th>item_upc14</th>\n",
       "    </tr>\n",
       "  </thead>\n",
       "  <tbody>\n",
       "    <tr>\n",
       "      <th>0</th>\n",
       "      <td>1</td>\n",
       "      <td>13.0</td>\n",
       "      <td>Tue, 01 Jan 2013 00:00:00 GMT</td>\n",
       "      <td>1</td>\n",
       "      <td>1</td>\n",
       "      <td>12125 Alamo Ranch Pkwy</td>\n",
       "      <td>San Antonio</td>\n",
       "      <td>1</td>\n",
       "      <td>TX</td>\n",
       "      <td>78253</td>\n",
       "      <td>Riceland</td>\n",
       "      <td>1</td>\n",
       "      <td>Riceland American Jazmine Rice</td>\n",
       "      <td>0.84</td>\n",
       "      <td>35200264013</td>\n",
       "      <td>35200264013</td>\n",
       "    </tr>\n",
       "    <tr>\n",
       "      <th>1</th>\n",
       "      <td>1</td>\n",
       "      <td>11.0</td>\n",
       "      <td>Wed, 02 Jan 2013 00:00:00 GMT</td>\n",
       "      <td>2</td>\n",
       "      <td>1</td>\n",
       "      <td>12125 Alamo Ranch Pkwy</td>\n",
       "      <td>San Antonio</td>\n",
       "      <td>1</td>\n",
       "      <td>TX</td>\n",
       "      <td>78253</td>\n",
       "      <td>Riceland</td>\n",
       "      <td>1</td>\n",
       "      <td>Riceland American Jazmine Rice</td>\n",
       "      <td>0.84</td>\n",
       "      <td>35200264013</td>\n",
       "      <td>35200264013</td>\n",
       "    </tr>\n",
       "    <tr>\n",
       "      <th>2</th>\n",
       "      <td>1</td>\n",
       "      <td>14.0</td>\n",
       "      <td>Thu, 03 Jan 2013 00:00:00 GMT</td>\n",
       "      <td>3</td>\n",
       "      <td>1</td>\n",
       "      <td>12125 Alamo Ranch Pkwy</td>\n",
       "      <td>San Antonio</td>\n",
       "      <td>1</td>\n",
       "      <td>TX</td>\n",
       "      <td>78253</td>\n",
       "      <td>Riceland</td>\n",
       "      <td>1</td>\n",
       "      <td>Riceland American Jazmine Rice</td>\n",
       "      <td>0.84</td>\n",
       "      <td>35200264013</td>\n",
       "      <td>35200264013</td>\n",
       "    </tr>\n",
       "    <tr>\n",
       "      <th>3</th>\n",
       "      <td>1</td>\n",
       "      <td>13.0</td>\n",
       "      <td>Fri, 04 Jan 2013 00:00:00 GMT</td>\n",
       "      <td>4</td>\n",
       "      <td>1</td>\n",
       "      <td>12125 Alamo Ranch Pkwy</td>\n",
       "      <td>San Antonio</td>\n",
       "      <td>1</td>\n",
       "      <td>TX</td>\n",
       "      <td>78253</td>\n",
       "      <td>Riceland</td>\n",
       "      <td>1</td>\n",
       "      <td>Riceland American Jazmine Rice</td>\n",
       "      <td>0.84</td>\n",
       "      <td>35200264013</td>\n",
       "      <td>35200264013</td>\n",
       "    </tr>\n",
       "    <tr>\n",
       "      <th>4</th>\n",
       "      <td>1</td>\n",
       "      <td>10.0</td>\n",
       "      <td>Sat, 05 Jan 2013 00:00:00 GMT</td>\n",
       "      <td>5</td>\n",
       "      <td>1</td>\n",
       "      <td>12125 Alamo Ranch Pkwy</td>\n",
       "      <td>San Antonio</td>\n",
       "      <td>1</td>\n",
       "      <td>TX</td>\n",
       "      <td>78253</td>\n",
       "      <td>Riceland</td>\n",
       "      <td>1</td>\n",
       "      <td>Riceland American Jazmine Rice</td>\n",
       "      <td>0.84</td>\n",
       "      <td>35200264013</td>\n",
       "      <td>35200264013</td>\n",
       "    </tr>\n",
       "    <tr>\n",
       "      <th>...</th>\n",
       "      <td>...</td>\n",
       "      <td>...</td>\n",
       "      <td>...</td>\n",
       "      <td>...</td>\n",
       "      <td>...</td>\n",
       "      <td>...</td>\n",
       "      <td>...</td>\n",
       "      <td>...</td>\n",
       "      <td>...</td>\n",
       "      <td>...</td>\n",
       "      <td>...</td>\n",
       "      <td>...</td>\n",
       "      <td>...</td>\n",
       "      <td>...</td>\n",
       "      <td>...</td>\n",
       "      <td>...</td>\n",
       "    </tr>\n",
       "    <tr>\n",
       "      <th>912995</th>\n",
       "      <td>50</td>\n",
       "      <td>63.0</td>\n",
       "      <td>Wed, 27 Dec 2017 00:00:00 GMT</td>\n",
       "      <td>912996</td>\n",
       "      <td>10</td>\n",
       "      <td>8503 NW Military Hwy</td>\n",
       "      <td>San Antonio</td>\n",
       "      <td>10</td>\n",
       "      <td>TX</td>\n",
       "      <td>78231</td>\n",
       "      <td>Choice</td>\n",
       "      <td>50</td>\n",
       "      <td>Choice Organic Teas Black Tea Classic Black - ...</td>\n",
       "      <td>5.20</td>\n",
       "      <td>47445919221</td>\n",
       "      <td>47445919221</td>\n",
       "    </tr>\n",
       "    <tr>\n",
       "      <th>912996</th>\n",
       "      <td>50</td>\n",
       "      <td>59.0</td>\n",
       "      <td>Thu, 28 Dec 2017 00:00:00 GMT</td>\n",
       "      <td>912997</td>\n",
       "      <td>10</td>\n",
       "      <td>8503 NW Military Hwy</td>\n",
       "      <td>San Antonio</td>\n",
       "      <td>10</td>\n",
       "      <td>TX</td>\n",
       "      <td>78231</td>\n",
       "      <td>Choice</td>\n",
       "      <td>50</td>\n",
       "      <td>Choice Organic Teas Black Tea Classic Black - ...</td>\n",
       "      <td>5.20</td>\n",
       "      <td>47445919221</td>\n",
       "      <td>47445919221</td>\n",
       "    </tr>\n",
       "    <tr>\n",
       "      <th>912997</th>\n",
       "      <td>50</td>\n",
       "      <td>74.0</td>\n",
       "      <td>Fri, 29 Dec 2017 00:00:00 GMT</td>\n",
       "      <td>912998</td>\n",
       "      <td>10</td>\n",
       "      <td>8503 NW Military Hwy</td>\n",
       "      <td>San Antonio</td>\n",
       "      <td>10</td>\n",
       "      <td>TX</td>\n",
       "      <td>78231</td>\n",
       "      <td>Choice</td>\n",
       "      <td>50</td>\n",
       "      <td>Choice Organic Teas Black Tea Classic Black - ...</td>\n",
       "      <td>5.20</td>\n",
       "      <td>47445919221</td>\n",
       "      <td>47445919221</td>\n",
       "    </tr>\n",
       "    <tr>\n",
       "      <th>912998</th>\n",
       "      <td>50</td>\n",
       "      <td>62.0</td>\n",
       "      <td>Sat, 30 Dec 2017 00:00:00 GMT</td>\n",
       "      <td>912999</td>\n",
       "      <td>10</td>\n",
       "      <td>8503 NW Military Hwy</td>\n",
       "      <td>San Antonio</td>\n",
       "      <td>10</td>\n",
       "      <td>TX</td>\n",
       "      <td>78231</td>\n",
       "      <td>Choice</td>\n",
       "      <td>50</td>\n",
       "      <td>Choice Organic Teas Black Tea Classic Black - ...</td>\n",
       "      <td>5.20</td>\n",
       "      <td>47445919221</td>\n",
       "      <td>47445919221</td>\n",
       "    </tr>\n",
       "    <tr>\n",
       "      <th>912999</th>\n",
       "      <td>50</td>\n",
       "      <td>82.0</td>\n",
       "      <td>Sun, 31 Dec 2017 00:00:00 GMT</td>\n",
       "      <td>913000</td>\n",
       "      <td>10</td>\n",
       "      <td>8503 NW Military Hwy</td>\n",
       "      <td>San Antonio</td>\n",
       "      <td>10</td>\n",
       "      <td>TX</td>\n",
       "      <td>78231</td>\n",
       "      <td>Choice</td>\n",
       "      <td>50</td>\n",
       "      <td>Choice Organic Teas Black Tea Classic Black - ...</td>\n",
       "      <td>5.20</td>\n",
       "      <td>47445919221</td>\n",
       "      <td>47445919221</td>\n",
       "    </tr>\n",
       "  </tbody>\n",
       "</table>\n",
       "<p>913000 rows × 16 columns</p>\n",
       "</div>"
      ],
      "text/plain": [
       "        item  sale_amount                      sale_date  sale_id  store  \\\n",
       "0          1         13.0  Tue, 01 Jan 2013 00:00:00 GMT        1      1   \n",
       "1          1         11.0  Wed, 02 Jan 2013 00:00:00 GMT        2      1   \n",
       "2          1         14.0  Thu, 03 Jan 2013 00:00:00 GMT        3      1   \n",
       "3          1         13.0  Fri, 04 Jan 2013 00:00:00 GMT        4      1   \n",
       "4          1         10.0  Sat, 05 Jan 2013 00:00:00 GMT        5      1   \n",
       "...      ...          ...                            ...      ...    ...   \n",
       "912995    50         63.0  Wed, 27 Dec 2017 00:00:00 GMT   912996     10   \n",
       "912996    50         59.0  Thu, 28 Dec 2017 00:00:00 GMT   912997     10   \n",
       "912997    50         74.0  Fri, 29 Dec 2017 00:00:00 GMT   912998     10   \n",
       "912998    50         62.0  Sat, 30 Dec 2017 00:00:00 GMT   912999     10   \n",
       "912999    50         82.0  Sun, 31 Dec 2017 00:00:00 GMT   913000     10   \n",
       "\n",
       "                 store_address   store_city  store_id store_state  \\\n",
       "0       12125 Alamo Ranch Pkwy  San Antonio         1          TX   \n",
       "1       12125 Alamo Ranch Pkwy  San Antonio         1          TX   \n",
       "2       12125 Alamo Ranch Pkwy  San Antonio         1          TX   \n",
       "3       12125 Alamo Ranch Pkwy  San Antonio         1          TX   \n",
       "4       12125 Alamo Ranch Pkwy  San Antonio         1          TX   \n",
       "...                        ...          ...       ...         ...   \n",
       "912995    8503 NW Military Hwy  San Antonio        10          TX   \n",
       "912996    8503 NW Military Hwy  San Antonio        10          TX   \n",
       "912997    8503 NW Military Hwy  San Antonio        10          TX   \n",
       "912998    8503 NW Military Hwy  San Antonio        10          TX   \n",
       "912999    8503 NW Military Hwy  San Antonio        10          TX   \n",
       "\n",
       "        store_zipcode item_brand  item_id  \\\n",
       "0               78253   Riceland        1   \n",
       "1               78253   Riceland        1   \n",
       "2               78253   Riceland        1   \n",
       "3               78253   Riceland        1   \n",
       "4               78253   Riceland        1   \n",
       "...               ...        ...      ...   \n",
       "912995          78231     Choice       50   \n",
       "912996          78231     Choice       50   \n",
       "912997          78231     Choice       50   \n",
       "912998          78231     Choice       50   \n",
       "912999          78231     Choice       50   \n",
       "\n",
       "                                                item_name  item_price  \\\n",
       "0                          Riceland American Jazmine Rice        0.84   \n",
       "1                          Riceland American Jazmine Rice        0.84   \n",
       "2                          Riceland American Jazmine Rice        0.84   \n",
       "3                          Riceland American Jazmine Rice        0.84   \n",
       "4                          Riceland American Jazmine Rice        0.84   \n",
       "...                                                   ...         ...   \n",
       "912995  Choice Organic Teas Black Tea Classic Black - ...        5.20   \n",
       "912996  Choice Organic Teas Black Tea Classic Black - ...        5.20   \n",
       "912997  Choice Organic Teas Black Tea Classic Black - ...        5.20   \n",
       "912998  Choice Organic Teas Black Tea Classic Black - ...        5.20   \n",
       "912999  Choice Organic Teas Black Tea Classic Black - ...        5.20   \n",
       "\n",
       "         item_upc12   item_upc14  \n",
       "0       35200264013  35200264013  \n",
       "1       35200264013  35200264013  \n",
       "2       35200264013  35200264013  \n",
       "3       35200264013  35200264013  \n",
       "4       35200264013  35200264013  \n",
       "...             ...          ...  \n",
       "912995  47445919221  47445919221  \n",
       "912996  47445919221  47445919221  \n",
       "912997  47445919221  47445919221  \n",
       "912998  47445919221  47445919221  \n",
       "912999  47445919221  47445919221  \n",
       "\n",
       "[913000 rows x 16 columns]"
      ]
     },
     "execution_count": 2,
     "metadata": {},
     "output_type": "execute_result"
    }
   ],
   "source": [
    "df= acquire.all_store_data()\n",
    "df"
   ]
  },
  {
   "cell_type": "code",
   "execution_count": 3,
   "metadata": {},
   "outputs": [
    {
     "name": "stdout",
     "output_type": "stream",
     "text": [
      "<class 'pandas.core.frame.DataFrame'>\n",
      "Int64Index: 913000 entries, 0 to 912999\n",
      "Data columns (total 16 columns):\n",
      " #   Column         Non-Null Count   Dtype  \n",
      "---  ------         --------------   -----  \n",
      " 0   item           913000 non-null  int64  \n",
      " 1   sale_amount    913000 non-null  float64\n",
      " 2   sale_date      913000 non-null  object \n",
      " 3   sale_id        913000 non-null  int64  \n",
      " 4   store          913000 non-null  int64  \n",
      " 5   store_address  913000 non-null  object \n",
      " 6   store_city     913000 non-null  object \n",
      " 7   store_id       913000 non-null  int64  \n",
      " 8   store_state    913000 non-null  object \n",
      " 9   store_zipcode  913000 non-null  int64  \n",
      " 10  item_brand     913000 non-null  object \n",
      " 11  item_id        913000 non-null  int64  \n",
      " 12  item_name      913000 non-null  object \n",
      " 13  item_price     913000 non-null  float64\n",
      " 14  item_upc12     913000 non-null  int64  \n",
      " 15  item_upc14     913000 non-null  int64  \n",
      "dtypes: float64(2), int64(8), object(6)\n",
      "memory usage: 118.4+ MB\n"
     ]
    }
   ],
   "source": [
    "df.info()"
   ]
  },
  {
   "cell_type": "code",
   "execution_count": 4,
   "metadata": {},
   "outputs": [
    {
     "data": {
      "text/plain": [
       "(913000, 16)"
      ]
     },
     "execution_count": 4,
     "metadata": {},
     "output_type": "execute_result"
    }
   ],
   "source": [
    "df.shape"
   ]
  },
  {
   "cell_type": "code",
   "execution_count": 5,
   "metadata": {},
   "outputs": [
    {
     "data": {
      "text/plain": [
       "item             0\n",
       "sale_amount      0\n",
       "sale_date        0\n",
       "sale_id          0\n",
       "store            0\n",
       "store_address    0\n",
       "store_city       0\n",
       "store_id         0\n",
       "store_state      0\n",
       "store_zipcode    0\n",
       "item_brand       0\n",
       "item_id          0\n",
       "item_name        0\n",
       "item_price       0\n",
       "item_upc12       0\n",
       "item_upc14       0\n",
       "dtype: int64"
      ]
     },
     "execution_count": 5,
     "metadata": {},
     "output_type": "execute_result"
    }
   ],
   "source": [
    "df.isnull().sum()"
   ]
  },
  {
   "cell_type": "code",
   "execution_count": 6,
   "metadata": {},
   "outputs": [],
   "source": [
    "df.sale_date = pd.to_datetime(df.sale_date).dt.date"
   ]
  },
  {
   "cell_type": "code",
   "execution_count": 7,
   "metadata": {},
   "outputs": [
    {
     "data": {
      "text/plain": [
       "item               int64\n",
       "sale_amount      float64\n",
       "sale_date         object\n",
       "sale_id            int64\n",
       "store              int64\n",
       "store_address     object\n",
       "store_city        object\n",
       "store_id           int64\n",
       "store_state       object\n",
       "store_zipcode      int64\n",
       "item_brand        object\n",
       "item_id            int64\n",
       "item_name         object\n",
       "item_price       float64\n",
       "item_upc12         int64\n",
       "item_upc14         int64\n",
       "dtype: object"
      ]
     },
     "execution_count": 7,
     "metadata": {},
     "output_type": "execute_result"
    }
   ],
   "source": [
    "#check dtypes\n",
    "df.dtypes"
   ]
  },
  {
   "cell_type": "code",
   "execution_count": 8,
   "metadata": {},
   "outputs": [],
   "source": [
    "#must complete step 2&3 (set date as index and sort)\n",
    "df = df.set_index('sale_date').sort_index()"
   ]
  },
  {
   "cell_type": "code",
   "execution_count": 9,
   "metadata": {},
   "outputs": [
    {
     "data": {
      "text/plain": [
       "pandas.core.indexes.base.Index"
      ]
     },
     "execution_count": 9,
     "metadata": {},
     "output_type": "execute_result"
    }
   ],
   "source": [
    "#make sure datatime is index now\n",
    "type(df.index)"
   ]
  },
  {
   "cell_type": "code",
   "execution_count": 10,
   "metadata": {},
   "outputs": [
    {
     "data": {
      "text/html": [
       "<div>\n",
       "<style scoped>\n",
       "    .dataframe tbody tr th:only-of-type {\n",
       "        vertical-align: middle;\n",
       "    }\n",
       "\n",
       "    .dataframe tbody tr th {\n",
       "        vertical-align: top;\n",
       "    }\n",
       "\n",
       "    .dataframe thead th {\n",
       "        text-align: right;\n",
       "    }\n",
       "</style>\n",
       "<table border=\"1\" class=\"dataframe\">\n",
       "  <thead>\n",
       "    <tr style=\"text-align: right;\">\n",
       "      <th></th>\n",
       "      <th>item</th>\n",
       "      <th>sale_amount</th>\n",
       "      <th>sale_id</th>\n",
       "      <th>store</th>\n",
       "      <th>store_address</th>\n",
       "      <th>store_city</th>\n",
       "      <th>store_id</th>\n",
       "      <th>store_state</th>\n",
       "      <th>store_zipcode</th>\n",
       "      <th>item_brand</th>\n",
       "      <th>item_id</th>\n",
       "      <th>item_name</th>\n",
       "      <th>item_price</th>\n",
       "      <th>item_upc12</th>\n",
       "      <th>item_upc14</th>\n",
       "    </tr>\n",
       "    <tr>\n",
       "      <th>sale_date</th>\n",
       "      <th></th>\n",
       "      <th></th>\n",
       "      <th></th>\n",
       "      <th></th>\n",
       "      <th></th>\n",
       "      <th></th>\n",
       "      <th></th>\n",
       "      <th></th>\n",
       "      <th></th>\n",
       "      <th></th>\n",
       "      <th></th>\n",
       "      <th></th>\n",
       "      <th></th>\n",
       "      <th></th>\n",
       "      <th></th>\n",
       "    </tr>\n",
       "  </thead>\n",
       "  <tbody>\n",
       "    <tr>\n",
       "      <th>2013-01-01</th>\n",
       "      <td>1</td>\n",
       "      <td>13.0</td>\n",
       "      <td>1</td>\n",
       "      <td>1</td>\n",
       "      <td>12125 Alamo Ranch Pkwy</td>\n",
       "      <td>San Antonio</td>\n",
       "      <td>1</td>\n",
       "      <td>TX</td>\n",
       "      <td>78253</td>\n",
       "      <td>Riceland</td>\n",
       "      <td>1</td>\n",
       "      <td>Riceland American Jazmine Rice</td>\n",
       "      <td>0.84</td>\n",
       "      <td>35200264013</td>\n",
       "      <td>35200264013</td>\n",
       "    </tr>\n",
       "    <tr>\n",
       "      <th>2013-01-01</th>\n",
       "      <td>12</td>\n",
       "      <td>26.0</td>\n",
       "      <td>211817</td>\n",
       "      <td>7</td>\n",
       "      <td>12018 Perrin Beitel Rd</td>\n",
       "      <td>San Antonio</td>\n",
       "      <td>7</td>\n",
       "      <td>TX</td>\n",
       "      <td>78217</td>\n",
       "      <td>Mueller</td>\n",
       "      <td>12</td>\n",
       "      <td>Mueller Sport Care Basic Support Level Medium ...</td>\n",
       "      <td>8.40</td>\n",
       "      <td>74676640211</td>\n",
       "      <td>74676640211</td>\n",
       "    </tr>\n",
       "    <tr>\n",
       "      <th>2013-01-01</th>\n",
       "      <td>46</td>\n",
       "      <td>27.0</td>\n",
       "      <td>832657</td>\n",
       "      <td>7</td>\n",
       "      <td>12018 Perrin Beitel Rd</td>\n",
       "      <td>San Antonio</td>\n",
       "      <td>7</td>\n",
       "      <td>TX</td>\n",
       "      <td>78217</td>\n",
       "      <td>Mama Marys</td>\n",
       "      <td>46</td>\n",
       "      <td>Pizza Sauce</td>\n",
       "      <td>4.65</td>\n",
       "      <td>35457770664</td>\n",
       "      <td>35457770664</td>\n",
       "    </tr>\n",
       "    <tr>\n",
       "      <th>2013-01-01</th>\n",
       "      <td>12</td>\n",
       "      <td>54.0</td>\n",
       "      <td>213643</td>\n",
       "      <td>8</td>\n",
       "      <td>15000 San Pedro Ave</td>\n",
       "      <td>San Antonio</td>\n",
       "      <td>8</td>\n",
       "      <td>TX</td>\n",
       "      <td>78232</td>\n",
       "      <td>Mueller</td>\n",
       "      <td>12</td>\n",
       "      <td>Mueller Sport Care Basic Support Level Medium ...</td>\n",
       "      <td>8.40</td>\n",
       "      <td>74676640211</td>\n",
       "      <td>74676640211</td>\n",
       "    </tr>\n",
       "    <tr>\n",
       "      <th>2013-01-01</th>\n",
       "      <td>12</td>\n",
       "      <td>35.0</td>\n",
       "      <td>215469</td>\n",
       "      <td>9</td>\n",
       "      <td>735 SW Military Dr</td>\n",
       "      <td>San Antonio</td>\n",
       "      <td>9</td>\n",
       "      <td>TX</td>\n",
       "      <td>78221</td>\n",
       "      <td>Mueller</td>\n",
       "      <td>12</td>\n",
       "      <td>Mueller Sport Care Basic Support Level Medium ...</td>\n",
       "      <td>8.40</td>\n",
       "      <td>74676640211</td>\n",
       "      <td>74676640211</td>\n",
       "    </tr>\n",
       "  </tbody>\n",
       "</table>\n",
       "</div>"
      ],
      "text/plain": [
       "            item  sale_amount  sale_id  store           store_address  \\\n",
       "sale_date                                                               \n",
       "2013-01-01     1         13.0        1      1  12125 Alamo Ranch Pkwy   \n",
       "2013-01-01    12         26.0   211817      7  12018 Perrin Beitel Rd   \n",
       "2013-01-01    46         27.0   832657      7  12018 Perrin Beitel Rd   \n",
       "2013-01-01    12         54.0   213643      8     15000 San Pedro Ave   \n",
       "2013-01-01    12         35.0   215469      9      735 SW Military Dr   \n",
       "\n",
       "             store_city  store_id store_state  store_zipcode  item_brand  \\\n",
       "sale_date                                                                  \n",
       "2013-01-01  San Antonio         1          TX          78253    Riceland   \n",
       "2013-01-01  San Antonio         7          TX          78217     Mueller   \n",
       "2013-01-01  San Antonio         7          TX          78217  Mama Marys   \n",
       "2013-01-01  San Antonio         8          TX          78232     Mueller   \n",
       "2013-01-01  San Antonio         9          TX          78221     Mueller   \n",
       "\n",
       "            item_id                                          item_name  \\\n",
       "sale_date                                                                \n",
       "2013-01-01        1                     Riceland American Jazmine Rice   \n",
       "2013-01-01       12  Mueller Sport Care Basic Support Level Medium ...   \n",
       "2013-01-01       46                                        Pizza Sauce   \n",
       "2013-01-01       12  Mueller Sport Care Basic Support Level Medium ...   \n",
       "2013-01-01       12  Mueller Sport Care Basic Support Level Medium ...   \n",
       "\n",
       "            item_price   item_upc12   item_upc14  \n",
       "sale_date                                         \n",
       "2013-01-01        0.84  35200264013  35200264013  \n",
       "2013-01-01        8.40  74676640211  74676640211  \n",
       "2013-01-01        4.65  35457770664  35457770664  \n",
       "2013-01-01        8.40  74676640211  74676640211  \n",
       "2013-01-01        8.40  74676640211  74676640211  "
      ]
     },
     "execution_count": 10,
     "metadata": {},
     "output_type": "execute_result"
    }
   ],
   "source": [
    "df.head()"
   ]
  },
  {
   "cell_type": "code",
   "execution_count": 11,
   "metadata": {},
   "outputs": [
    {
     "data": {
      "text/plain": [
       "(913000, 913000)"
      ]
     },
     "execution_count": 11,
     "metadata": {},
     "output_type": "execute_result"
    }
   ],
   "source": [
    "df.shape[0], df.sale_id.nunique()"
   ]
  },
  {
   "cell_type": "code",
   "execution_count": 12,
   "metadata": {},
   "outputs": [
    {
     "data": {
      "text/plain": [
       "<AxesSubplot:xlabel='sale_date'>"
      ]
     },
     "execution_count": 12,
     "metadata": {},
     "output_type": "execute_result"
    },
    {
     "data": {
      "image/png": "[encoded data removed]",
      "text/plain": [
       "<Figure size 432x288 with 1 Axes>"
      ]
     },
     "metadata": {
      "needs_background": "light"
     },
     "output_type": "display_data"
    }
   ],
   "source": [
    "#this shows that there are distinct paterns in this data\n",
    "#we have peaks and valleys depending on season\n",
    "#market seems predictable\n",
    "by_date = df.groupby(['sale_date']).sale_amount.sum().reset_index()\n",
    "by_date.plot(x='sale_date', y='sale_amount')"
   ]
  },
  {
   "cell_type": "code",
   "execution_count": 13,
   "metadata": {},
   "outputs": [],
   "source": [
    "#univariate info with even distribution "
   ]
  },
  {
   "cell_type": "code",
   "execution_count": 14,
   "metadata": {},
   "outputs": [
    {
     "data": {
      "text/plain": [
       "10    91300\n",
       "9     91300\n",
       "8     91300\n",
       "7     91300\n",
       "6     91300\n",
       "5     91300\n",
       "4     91300\n",
       "3     91300\n",
       "2     91300\n",
       "1     91300\n",
       "Name: store, dtype: int64"
      ]
     },
     "execution_count": 14,
     "metadata": {},
     "output_type": "execute_result"
    }
   ],
   "source": [
    "# Number of observations per store = number of item-transactions per store.\n",
    "df.store.value_counts()"
   ]
  },
  {
   "cell_type": "code",
   "execution_count": 15,
   "metadata": {},
   "outputs": [
    {
     "data": {
      "text/plain": [
       "1     18260\n",
       "2     18260\n",
       "3     18260\n",
       "4     18260\n",
       "5     18260\n",
       "6     18260\n",
       "7     18260\n",
       "8     18260\n",
       "9     18260\n",
       "10    18260\n",
       "11    18260\n",
       "12    18260\n",
       "13    18260\n",
       "14    18260\n",
       "15    18260\n",
       "16    18260\n",
       "17    18260\n",
       "18    18260\n",
       "19    18260\n",
       "20    18260\n",
       "21    18260\n",
       "22    18260\n",
       "23    18260\n",
       "24    18260\n",
       "25    18260\n",
       "26    18260\n",
       "27    18260\n",
       "28    18260\n",
       "29    18260\n",
       "30    18260\n",
       "31    18260\n",
       "32    18260\n",
       "33    18260\n",
       "34    18260\n",
       "35    18260\n",
       "36    18260\n",
       "37    18260\n",
       "38    18260\n",
       "39    18260\n",
       "40    18260\n",
       "41    18260\n",
       "42    18260\n",
       "43    18260\n",
       "44    18260\n",
       "45    18260\n",
       "46    18260\n",
       "47    18260\n",
       "48    18260\n",
       "49    18260\n",
       "50    18260\n",
       "Name: item_id, dtype: int64"
      ]
     },
     "execution_count": 15,
     "metadata": {},
     "output_type": "execute_result"
    }
   ],
   "source": [
    "#number of items\n",
    "df.item_id.value_counts().sort_index()"
   ]
  },
  {
   "cell_type": "markdown",
   "metadata": {},
   "source": [
    "### Takeaways:\n",
    "This all shows that there is an even distribution of items and stores within the dataframe\n",
    "- 50 unique items\n",
    "- 18260 sales per item\n",
    "- 10 unique stores"
   ]
  },
  {
   "cell_type": "markdown",
   "metadata": {},
   "source": [
    "<hr style=\"border:2px solid black\"> </hr>"
   ]
  },
  {
   "cell_type": "code",
   "execution_count": 16,
   "metadata": {},
   "outputs": [
    {
     "data": {
      "text/plain": [
       "store  item_id\n",
       "1      1          2013-01-01\n",
       "       2          2013-01-01\n",
       "       3          2013-01-01\n",
       "       4          2013-01-01\n",
       "       5          2013-01-01\n",
       "Name: sale_date, dtype: object"
      ]
     },
     "execution_count": 16,
     "metadata": {},
     "output_type": "execute_result"
    }
   ],
   "source": [
    "#find out what happens on first day of sales\n",
    "#remove the index of datetime so we can use it in groupby (only for this problem)\n",
    "first_sale = df.reset_index().groupby(['store', 'item_id']).sale_date.min()\n",
    "first_sale.head()"
   ]
  },
  {
   "cell_type": "code",
   "execution_count": 17,
   "metadata": {},
   "outputs": [
    {
     "data": {
      "text/plain": [
       "array([datetime.date(2013, 1, 1)], dtype=object)"
      ]
     },
     "execution_count": 17,
     "metadata": {},
     "output_type": "execute_result"
    }
   ],
   "source": [
    "# get the unique dates from first_sale_per_storeitem\n",
    "first_sale.unique() # if there's only one unique value, then YES!\n",
    "\n",
    "#shows that every item was sold in everystore on the that date"
   ]
  },
  {
   "cell_type": "code",
   "execution_count": 18,
   "metadata": {},
   "outputs": [
    {
     "data": {
      "text/plain": [
       "store  item_id\n",
       "1      1          2017-12-31\n",
       "       2          2017-12-31\n",
       "       3          2017-12-31\n",
       "       4          2017-12-31\n",
       "       5          2017-12-31\n",
       "Name: sale_date, dtype: object"
      ]
     },
     "execution_count": 18,
     "metadata": {},
     "output_type": "execute_result"
    }
   ],
   "source": [
    "#look at last sale\n",
    "last_sale = df.reset_index().groupby(['store', 'item_id']).sale_date.max()\n",
    "last_sale.head()"
   ]
  },
  {
   "cell_type": "code",
   "execution_count": 19,
   "metadata": {},
   "outputs": [
    {
     "data": {
      "text/plain": [
       "array([datetime.date(2017, 12, 31)], dtype=object)"
      ]
     },
     "execution_count": 19,
     "metadata": {},
     "output_type": "execute_result"
    }
   ],
   "source": [
    "last_sale.unique() # if there's only one unique value, then YES!"
   ]
  },
  {
   "cell_type": "code",
   "execution_count": 20,
   "metadata": {},
   "outputs": [
    {
     "data": {
      "text/plain": [
       "store  item_id\n",
       "1      1          1826\n",
       "       2          1826\n",
       "       3          1826\n",
       "       4          1826\n",
       "       5          1826\n",
       "Name: sale_date, dtype: int64"
      ]
     },
     "execution_count": 20,
     "metadata": {},
     "output_type": "execute_result"
    }
   ],
   "source": [
    "#see all the DIFFERENT days that items were sold at each store\n",
    "days_per_store_per_item =  df.reset_index().groupby(['store', 'item_id']).sale_date.nunique()\n",
    "days_per_store_per_item.head()\n",
    "\n",
    "#there are no unique days.\n",
    "#every item was sold every day at every store"
   ]
  },
  {
   "cell_type": "markdown",
   "metadata": {},
   "source": [
    "<hr style=\"border:2px solid black\"> </hr>"
   ]
  },
  {
   "cell_type": "code",
   "execution_count": 21,
   "metadata": {},
   "outputs": [
    {
     "data": {
      "text/html": [
       "<div>\n",
       "<style scoped>\n",
       "    .dataframe tbody tr th:only-of-type {\n",
       "        vertical-align: middle;\n",
       "    }\n",
       "\n",
       "    .dataframe tbody tr th {\n",
       "        vertical-align: top;\n",
       "    }\n",
       "\n",
       "    .dataframe thead th {\n",
       "        text-align: right;\n",
       "    }\n",
       "</style>\n",
       "<table border=\"1\" class=\"dataframe\">\n",
       "  <thead>\n",
       "    <tr style=\"text-align: right;\">\n",
       "      <th></th>\n",
       "      <th>item</th>\n",
       "      <th>sale_amount</th>\n",
       "      <th>sale_id</th>\n",
       "      <th>store</th>\n",
       "      <th>store_address</th>\n",
       "      <th>store_city</th>\n",
       "      <th>store_id</th>\n",
       "      <th>store_state</th>\n",
       "      <th>store_zipcode</th>\n",
       "      <th>item_brand</th>\n",
       "      <th>item_id</th>\n",
       "      <th>item_name</th>\n",
       "      <th>item_price</th>\n",
       "      <th>item_upc12</th>\n",
       "      <th>item_upc14</th>\n",
       "    </tr>\n",
       "    <tr>\n",
       "      <th>sale_date</th>\n",
       "      <th></th>\n",
       "      <th></th>\n",
       "      <th></th>\n",
       "      <th></th>\n",
       "      <th></th>\n",
       "      <th></th>\n",
       "      <th></th>\n",
       "      <th></th>\n",
       "      <th></th>\n",
       "      <th></th>\n",
       "      <th></th>\n",
       "      <th></th>\n",
       "      <th></th>\n",
       "      <th></th>\n",
       "      <th></th>\n",
       "    </tr>\n",
       "  </thead>\n",
       "  <tbody>\n",
       "    <tr>\n",
       "      <th>2013-01-01</th>\n",
       "      <td>1</td>\n",
       "      <td>13.0</td>\n",
       "      <td>1</td>\n",
       "      <td>1</td>\n",
       "      <td>12125 Alamo Ranch Pkwy</td>\n",
       "      <td>San Antonio</td>\n",
       "      <td>1</td>\n",
       "      <td>TX</td>\n",
       "      <td>78253</td>\n",
       "      <td>Riceland</td>\n",
       "      <td>1</td>\n",
       "      <td>Riceland American Jazmine Rice</td>\n",
       "      <td>0.84</td>\n",
       "      <td>35200264013</td>\n",
       "      <td>35200264013</td>\n",
       "    </tr>\n",
       "    <tr>\n",
       "      <th>2013-01-01</th>\n",
       "      <td>12</td>\n",
       "      <td>26.0</td>\n",
       "      <td>211817</td>\n",
       "      <td>7</td>\n",
       "      <td>12018 Perrin Beitel Rd</td>\n",
       "      <td>San Antonio</td>\n",
       "      <td>7</td>\n",
       "      <td>TX</td>\n",
       "      <td>78217</td>\n",
       "      <td>Mueller</td>\n",
       "      <td>12</td>\n",
       "      <td>Mueller Sport Care Basic Support Level Medium ...</td>\n",
       "      <td>8.40</td>\n",
       "      <td>74676640211</td>\n",
       "      <td>74676640211</td>\n",
       "    </tr>\n",
       "    <tr>\n",
       "      <th>2013-01-01</th>\n",
       "      <td>46</td>\n",
       "      <td>27.0</td>\n",
       "      <td>832657</td>\n",
       "      <td>7</td>\n",
       "      <td>12018 Perrin Beitel Rd</td>\n",
       "      <td>San Antonio</td>\n",
       "      <td>7</td>\n",
       "      <td>TX</td>\n",
       "      <td>78217</td>\n",
       "      <td>Mama Marys</td>\n",
       "      <td>46</td>\n",
       "      <td>Pizza Sauce</td>\n",
       "      <td>4.65</td>\n",
       "      <td>35457770664</td>\n",
       "      <td>35457770664</td>\n",
       "    </tr>\n",
       "    <tr>\n",
       "      <th>2013-01-01</th>\n",
       "      <td>12</td>\n",
       "      <td>54.0</td>\n",
       "      <td>213643</td>\n",
       "      <td>8</td>\n",
       "      <td>15000 San Pedro Ave</td>\n",
       "      <td>San Antonio</td>\n",
       "      <td>8</td>\n",
       "      <td>TX</td>\n",
       "      <td>78232</td>\n",
       "      <td>Mueller</td>\n",
       "      <td>12</td>\n",
       "      <td>Mueller Sport Care Basic Support Level Medium ...</td>\n",
       "      <td>8.40</td>\n",
       "      <td>74676640211</td>\n",
       "      <td>74676640211</td>\n",
       "    </tr>\n",
       "    <tr>\n",
       "      <th>2013-01-01</th>\n",
       "      <td>12</td>\n",
       "      <td>35.0</td>\n",
       "      <td>215469</td>\n",
       "      <td>9</td>\n",
       "      <td>735 SW Military Dr</td>\n",
       "      <td>San Antonio</td>\n",
       "      <td>9</td>\n",
       "      <td>TX</td>\n",
       "      <td>78221</td>\n",
       "      <td>Mueller</td>\n",
       "      <td>12</td>\n",
       "      <td>Mueller Sport Care Basic Support Level Medium ...</td>\n",
       "      <td>8.40</td>\n",
       "      <td>74676640211</td>\n",
       "      <td>74676640211</td>\n",
       "    </tr>\n",
       "  </tbody>\n",
       "</table>\n",
       "</div>"
      ],
      "text/plain": [
       "            item  sale_amount  sale_id  store           store_address  \\\n",
       "sale_date                                                               \n",
       "2013-01-01     1         13.0        1      1  12125 Alamo Ranch Pkwy   \n",
       "2013-01-01    12         26.0   211817      7  12018 Perrin Beitel Rd   \n",
       "2013-01-01    46         27.0   832657      7  12018 Perrin Beitel Rd   \n",
       "2013-01-01    12         54.0   213643      8     15000 San Pedro Ave   \n",
       "2013-01-01    12         35.0   215469      9      735 SW Military Dr   \n",
       "\n",
       "             store_city  store_id store_state  store_zipcode  item_brand  \\\n",
       "sale_date                                                                  \n",
       "2013-01-01  San Antonio         1          TX          78253    Riceland   \n",
       "2013-01-01  San Antonio         7          TX          78217     Mueller   \n",
       "2013-01-01  San Antonio         7          TX          78217  Mama Marys   \n",
       "2013-01-01  San Antonio         8          TX          78232     Mueller   \n",
       "2013-01-01  San Antonio         9          TX          78221     Mueller   \n",
       "\n",
       "            item_id                                          item_name  \\\n",
       "sale_date                                                                \n",
       "2013-01-01        1                     Riceland American Jazmine Rice   \n",
       "2013-01-01       12  Mueller Sport Care Basic Support Level Medium ...   \n",
       "2013-01-01       46                                        Pizza Sauce   \n",
       "2013-01-01       12  Mueller Sport Care Basic Support Level Medium ...   \n",
       "2013-01-01       12  Mueller Sport Care Basic Support Level Medium ...   \n",
       "\n",
       "            item_price   item_upc12   item_upc14  \n",
       "sale_date                                         \n",
       "2013-01-01        0.84  35200264013  35200264013  \n",
       "2013-01-01        8.40  74676640211  74676640211  \n",
       "2013-01-01        4.65  35457770664  35457770664  \n",
       "2013-01-01        8.40  74676640211  74676640211  \n",
       "2013-01-01        8.40  74676640211  74676640211  "
      ]
     },
     "execution_count": 21,
     "metadata": {},
     "output_type": "execute_result"
    }
   ],
   "source": [
    "#you can see that sale_date is still index within the original df\n",
    "df.head()"
   ]
  },
  {
   "cell_type": "markdown",
   "metadata": {},
   "source": [
    "### Check for time gaps in the data"
   ]
  },
  {
   "cell_type": "code",
   "execution_count": 22,
   "metadata": {},
   "outputs": [
    {
     "name": "stdout",
     "output_type": "stream",
     "text": [
      "Number of rows: 1826\n",
      "Number of days between first and last day: 1826 days 00:00:00\n"
     ]
    }
   ],
   "source": [
    "#this shows that there are no missing days or values\n",
    "#don't need to fill or pad this data\n",
    "print('Number of rows:', df.index.nunique())\n",
    "n_days = df.index.max() - df.index.min() + pd.Timedelta('1d')\n",
    "print(f\"Number of days between first and last day:\", n_days)"
   ]
  },
  {
   "cell_type": "markdown",
   "metadata": {},
   "source": [
    "### Reproducability"
   ]
  },
  {
   "cell_type": "code",
   "execution_count": 23,
   "metadata": {},
   "outputs": [],
   "source": [
    "def prep_store_data(df):\n",
    "    return df.asign(sale_date=pd.to_datetime(df.sale_date)).sort_values('sale_date').set_index('sale_date')"
   ]
  },
  {
   "cell_type": "markdown",
   "metadata": {},
   "source": [
    "<hr style=\"border:2px solid black\"> </hr>"
   ]
  },
  {
   "cell_type": "markdown",
   "metadata": {},
   "source": [
    "## Data Splitting\n",
    "- **sklearn.model_selection.TimeSeriesSplit**"
   ]
  },
  {
   "cell_type": "markdown",
   "metadata": {},
   "source": [
    "- Splitting time series data into train, test, and validate sets is a little trickier than with previous data we have looked at. Because the data points have an order to them, we cannot simply assign each point randomly to train, validate, or test.\n",
    "- Ideally all splits should contain one season's worth of data. There are several methods we can use to split our time series data:\n",
    "    - Human-based: use, for example, the last year in the dataset as test split\n",
    "    - Percentage based: use the last 20% as test\n",
    "    - Cross Validate: break data up into slices and use successive slices as train and test repeatedly (sklearn.model_selection.TimeSeriesSplit)"
   ]
  },
  {
   "cell_type": "markdown",
   "metadata": {},
   "source": [
    "#### Important:\n",
    "- We have to cut at a specific point in time\n",
    "- cannot just scramble data up like before\n",
    "- make the cut based on a cutoff on train that accurately sees seasonality\n",
    "- overfitting can happen but to avoid it we must draw lines within validate and split it into subsets (**crossvalidation**)\n",
    "    - K-fold cross validation"
   ]
  },
  {
   "cell_type": "code",
   "execution_count": null,
   "metadata": {},
   "outputs": [],
   "source": []
  }
 ],
 "metadata": {
  "kernelspec": {
   "display_name": "Python 3",
   "language": "python",
   "name": "python3"
  },
  "language_info": {
   "codemirror_mode": {
    "name": "ipython",
    "version": 3
   },
   "file_extension": ".py",
   "mimetype": "text/x-python",
   "name": "python",
   "nbconvert_exporter": "python",
   "pygments_lexer": "ipython3",
   "version": "3.8.5"
  }
 },
 "nbformat": 4,
 "nbformat_minor": 4
}
